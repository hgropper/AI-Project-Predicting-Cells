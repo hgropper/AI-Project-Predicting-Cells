{
 "cells": [
  {
   "cell_type": "code",
   "execution_count": 41,
   "id": "dfa95a7a",
   "metadata": {},
   "outputs": [],
   "source": [
    "import random\n",
    "import math\n",
    "import numpy as np"
   ]
  },
  {
   "cell_type": "code",
   "execution_count": 60,
   "id": "873f6b3b",
   "metadata": {},
   "outputs": [
    {
     "data": {
      "text/plain": [
       "0.10240000000000003"
      ]
     },
     "execution_count": 60,
     "metadata": {},
     "output_type": "execute_result"
    }
   ],
   "source": [
    "0.80*0.80*0.2*0.8"
   ]
  },
  {
   "cell_type": "code",
   "execution_count": 65,
   "id": "b8454d2e",
   "metadata": {
    "scrolled": true
   },
   "outputs": [
    {
     "data": {
      "text/plain": [
       "0.10137324486961889"
      ]
     },
     "execution_count": 65,
     "metadata": {},
     "output_type": "execute_result"
    }
   ],
   "source": [
    "outcomes/trials"
   ]
  },
  {
   "cell_type": "code",
   "execution_count": 64,
   "id": "48518916",
   "metadata": {
    "scrolled": true
   },
   "outputs": [
    {
     "ename": "KeyboardInterrupt",
     "evalue": "",
     "output_type": "error",
     "traceback": [
      "\u001b[1;31m---------------------------------------------------------------------------\u001b[0m",
      "\u001b[1;31mKeyboardInterrupt\u001b[0m                         Traceback (most recent call last)",
      "\u001b[1;32m<ipython-input-64-31d2e96a3eca>\u001b[0m in \u001b[0;36m<module>\u001b[1;34m\u001b[0m\n\u001b[0;32m      8\u001b[0m \u001b[1;33m\u001b[0m\u001b[0m\n\u001b[0;32m      9\u001b[0m     \u001b[1;32mwhile\u001b[0m \u001b[0mlen\u001b[0m\u001b[1;33m(\u001b[0m\u001b[0mroute\u001b[0m\u001b[1;33m)\u001b[0m \u001b[1;33m<\u001b[0m \u001b[1;36m6\u001b[0m\u001b[1;33m:\u001b[0m\u001b[1;33m\u001b[0m\u001b[1;33m\u001b[0m\u001b[0m\n\u001b[1;32m---> 10\u001b[1;33m         \u001b[0mposition\u001b[0m \u001b[1;33m+=\u001b[0m \u001b[0mnp\u001b[0m\u001b[1;33m.\u001b[0m\u001b[0mrandom\u001b[0m\u001b[1;33m.\u001b[0m\u001b[0mchoice\u001b[0m\u001b[1;33m(\u001b[0m\u001b[1;33m[\u001b[0m\u001b[1;36m1\u001b[0m\u001b[1;33m,\u001b[0m\u001b[1;36m0\u001b[0m\u001b[1;33m]\u001b[0m\u001b[1;33m,\u001b[0m \u001b[0mp\u001b[0m \u001b[1;33m=\u001b[0m \u001b[1;33m[\u001b[0m\u001b[1;36m0.80\u001b[0m\u001b[1;33m,\u001b[0m\u001b[1;36m0.20\u001b[0m\u001b[1;33m]\u001b[0m\u001b[1;33m)\u001b[0m\u001b[1;33m\u001b[0m\u001b[1;33m\u001b[0m\u001b[0m\n\u001b[0m\u001b[0;32m     11\u001b[0m         \u001b[0mroute\u001b[0m\u001b[1;33m.\u001b[0m\u001b[0mappend\u001b[0m\u001b[1;33m(\u001b[0m\u001b[0mpath\u001b[0m\u001b[1;33m[\u001b[0m\u001b[0mposition\u001b[0m\u001b[1;33m]\u001b[0m\u001b[1;33m)\u001b[0m\u001b[1;33m\u001b[0m\u001b[1;33m\u001b[0m\u001b[0m\n\u001b[0;32m     12\u001b[0m \u001b[1;33m\u001b[0m\u001b[0m\n",
      "\u001b[1;31mKeyboardInterrupt\u001b[0m: "
     ]
    }
   ],
   "source": [
    "path = [\"hot\",\"cold\",\"cold\",\"hot\",\"cold\",\"cold\"]\n",
    "trials = 0\n",
    "outcomes = 0\n",
    "\n",
    "while True:\n",
    "    position = 0\n",
    "    route = [\"hot\"]\n",
    "\n",
    "    while len(route) < 6:\n",
    "        position += np.random.choice([1,0], p = [0.80,0.20])\n",
    "        route.append(path[position])\n",
    "\n",
    "    if route[0] == 'hot' and route[1] == 'cold' and route[2] == 'cold':\n",
    "        trials += 1\n",
    "        if route[3] == 'hot' and route[4] == 'hot' and route[5] == 'cold':\n",
    "            outcomes += 1"
   ]
  },
  {
   "cell_type": "markdown",
   "id": "76018646",
   "metadata": {},
   "source": [
    "### Problem 2"
   ]
  },
  {
   "cell_type": "code",
   "execution_count": 119,
   "id": "32bc6942",
   "metadata": {},
   "outputs": [],
   "source": [
    "def run_trial_problem_2():\n",
    "    B = np.random.choice([True,False], p = [0.001,0.999])\n",
    "    E = np.random.choice([True,False], p = [0.002,0.998])\n",
    "\n",
    "    if B == True and E == True:\n",
    "        A = np.random.choice([True,False], p = [0.95,0.05])\n",
    "    elif B == True and E == False:\n",
    "        A = np.random.choice([True,False], p = [0.94,0.06])\n",
    "    elif B == False and E == True:\n",
    "        A = np.random.choice([True,False], p = [0.29,0.71])  \n",
    "    elif B == False and E == False:\n",
    "        A = np.random.choice([True,False], p = [0.001,0.999])\n",
    "\n",
    "    if A == True:\n",
    "        J = np.random.choice([True,False], p = [0.90,0.10])\n",
    "        M = np.random.choice([True,False], p = [0.70,0.30])\n",
    "    elif A == False:\n",
    "        J = np.random.choice([True,False], p = [0.05,0.95])\n",
    "        M = np.random.choice([True,False], p = [0.01,0.99])\n",
    "        \n",
    "    return A, B, E, J, M"
   ]
  },
  {
   "cell_type": "code",
   "execution_count": 142,
   "id": "bc6225fd",
   "metadata": {},
   "outputs": [],
   "source": [
    "ave = []"
   ]
  },
  {
   "cell_type": "code",
   "execution_count": 149,
   "id": "68459d48",
   "metadata": {},
   "outputs": [
    {
     "name": "stdout",
     "output_type": "stream",
     "text": [
      "0.3334288101205395\n",
      "0.316750208855472\n",
      "0.3169092765583994\n",
      "0.30902787271208326\n",
      "0.284886998908218\n",
      "0.28766156718101804\n",
      "0.2889451255583979\n",
      "0.2887143512838185\n",
      "0.28613339453156394\n",
      "0.28213894626223\n",
      "0.28318959648209885\n",
      "0.28260835627349734\n",
      "0.28989489707904736\n",
      "0.29340015222509497\n",
      "0.2889525259286619\n",
      "0.2876760277145132\n",
      "0.28212489607475183\n",
      "0.2807863587383038\n",
      "0.28669776153162885\n",
      "0.27971950754559455\n"
     ]
    }
   ],
   "source": [
    "for _ in range(0,20):\n",
    "    probs = {\"A\":[],\"B\":[],\"E\":[],\"J\":[],\"M\":[]}\n",
    "    for _ in range(0,10000):\n",
    "        A, B, E, J, M = run_trial_problem_2()\n",
    "        probs[\"A\"].append(A)\n",
    "        probs[\"B\"].append(B)    \n",
    "        probs[\"E\"].append(E)    \n",
    "        probs[\"J\"].append(J)\n",
    "        probs[\"M\"].append(M)        \n",
    "\n",
    "    numerator = 0\n",
    "    denominator = 0\n",
    "    for b, j, m in zip(probs[\"B\"],probs[\"J\"],probs[\"M\"]):\n",
    "        if b and j and m:\n",
    "            numerator += 1\n",
    "        if m and j:\n",
    "            denominator += 1\n",
    "\n",
    "    ave.append(numerator/denominator)\n",
    "    print(np.mean(ave))"
   ]
  },
  {
   "cell_type": "markdown",
   "id": "65e6b4ee",
   "metadata": {},
   "source": [
    "### Problem 3"
   ]
  },
  {
   "cell_type": "code",
   "execution_count": 92,
   "id": "1f8aca23",
   "metadata": {},
   "outputs": [],
   "source": [
    "def run_trial():\n",
    "    \"\"\"\n",
    "    Determines the probability of \n",
    "    A, B, C, D given the bayesian network\n",
    "    \"\"\"\n",
    "    \n",
    "    # probability of A = 0\n",
    "    A = False\n",
    "\n",
    "    # probability of B is 0.90\n",
    "    B = np.random.choice([True,False], p = [0.90,0.10])\n",
    "\n",
    "    # what is C going to be based off A and B?\n",
    "    if A == False and B == True:\n",
    "        C = np.random.choice([True,False], p = [0.50,0.50])\n",
    "    else:\n",
    "        C = False\n",
    "\n",
    "    # deciding the value for D\n",
    "    if B == True and C == True:\n",
    "        D = np.random.choice([True,False], p = [0.75,0.25])\n",
    "    elif B == True and C == False:\n",
    "        D = np.random.choice([True,False], p = [0.10,0.90])\n",
    "    elif B == False and C == True:\n",
    "        D = np.random.choice([True,False], p = [0.50,0.50])\n",
    "    elif B == False and C == False:\n",
    "        D = np.random.choice([True,False], p = [0.20,0.80])\n",
    "            \n",
    "    # returning al the values\n",
    "    return (A, B, C, D)"
   ]
  },
  {
   "cell_type": "code",
   "execution_count": 152,
   "id": "1bbe3775",
   "metadata": {},
   "outputs": [
    {
     "data": {
      "text/plain": [
       "array([0.2, 0.8])"
      ]
     },
     "execution_count": 152,
     "metadata": {},
     "output_type": "execute_result"
    }
   ],
   "source": [
    "np.array([.16,.64])/(.16+.64)"
   ]
  },
  {
   "cell_type": "code",
   "execution_count": null,
   "id": "c0b7e266",
   "metadata": {},
   "outputs": [],
   "source": [
    "probs = {\"A\":[],\"B\":[],\"C\":[],\"D\":[]}\n",
    "for _ in range(0,10000):\n",
    "    A, B, C, D = run_trial()\n",
    "    probs[\"A\"].append(A)\n",
    "    probs[\"B\"].append(B)    \n",
    "    probs[\"C\"].append(C)    \n",
    "    probs[\"D\"].append(D)    "
   ]
  },
  {
   "cell_type": "markdown",
   "id": "0145aa35",
   "metadata": {},
   "source": [
    "### Problem 4"
   ]
  },
  {
   "cell_type": "code",
   "execution_count": 70,
   "id": "7a420cff",
   "metadata": {},
   "outputs": [
    {
     "data": {
      "text/plain": [
       "0.384"
      ]
     },
     "execution_count": 70,
     "metadata": {},
     "output_type": "execute_result"
    }
   ],
   "source": [
    "0.32 * 0.8 + 0.32 * 0.2 + 0.32 * 0.2"
   ]
  },
  {
   "cell_type": "code",
   "execution_count": 73,
   "id": "a3c8267b",
   "metadata": {},
   "outputs": [
    {
     "name": "stdout",
     "output_type": "stream",
     "text": [
      "A: 0.0\n",
      "B: 0.008759854836691278\n",
      "C: 0.10173945688900013\n",
      "D: 0.3765486171943436\n",
      "E: 0.512952071079965\n",
      "F: 0.0\n"
     ]
    }
   ],
   "source": [
    "path = {\"A\":\"hot\",\"B\":\"cold\",\"C\":\"cold\",\"D\":\"hot\",\"E\":\"cold\",\"F\":\"cold\"}\n",
    "keys = list(path.keys())\n",
    "X = []\n",
    "\n",
    "for _ in range(0,10000):\n",
    "    \n",
    "    total_path = [\"A\"]\n",
    "    index = 0\n",
    "    \n",
    "    while len(total_path) < 5:\n",
    "        \n",
    "        index += np.random.choice([1,0], p = [0.80,0.20])\n",
    "        total_path.append(keys[index])\n",
    "\n",
    "    if (path[total_path[0]] == \"hot\" and path[total_path[1]] == \"cold\" and \n",
    "    path[total_path[2]] == \"cold\"):\n",
    "        X.append(total_path[-1])\n",
    "        \n",
    "for letter in keys:\n",
    "    print(f\"{letter}: {X.count(letter) / len(X)}\")"
   ]
  },
  {
   "cell_type": "code",
   "execution_count": 76,
   "id": "d4fec6c8",
   "metadata": {},
   "outputs": [
    {
     "data": {
      "text/plain": [
       "0.09600000000000003"
      ]
     },
     "execution_count": 76,
     "metadata": {},
     "output_type": "execute_result"
    }
   ],
   "source": [
    "0.20*0.8*0.20 + 0.20*0.8*0.20 + 0.20*0.20*0.80"
   ]
  },
  {
   "cell_type": "code",
   "execution_count": null,
   "id": "95881237",
   "metadata": {},
   "outputs": [],
   "source": []
  }
 ],
 "metadata": {
  "kernelspec": {
   "display_name": "Python 3",
   "language": "python",
   "name": "python3"
  },
  "language_info": {
   "codemirror_mode": {
    "name": "ipython",
    "version": 3
   },
   "file_extension": ".py",
   "mimetype": "text/x-python",
   "name": "python",
   "nbconvert_exporter": "python",
   "pygments_lexer": "ipython3",
   "version": "3.8.5"
  }
 },
 "nbformat": 4,
 "nbformat_minor": 5
}
