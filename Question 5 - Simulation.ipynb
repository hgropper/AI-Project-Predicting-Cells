{
 "cells": [
  {
   "cell_type": "code",
   "execution_count": 85,
   "id": "8ff1c1f7",
   "metadata": {},
   "outputs": [],
   "source": [
    "import numpy as np # vectorization and arrays\n",
    "import pandas as pd # visualization\n",
    "import random # for randomization\n",
    "import matplotlib.pyplot as plt # for graphing\n",
    "import copy # to mutate lists that we want to mutate\n",
    "import os # to make folder and save files\n",
    "import streamlit as st # for the GUI"
   ]
  },
  {
   "cell_type": "code",
   "execution_count": 86,
   "id": "69290e26",
   "metadata": {},
   "outputs": [],
   "source": [
    "# given actions and sensor readings\n",
    "actions = [\"Right\", \"Right\", \"Down\", \"Down\"]\n",
    "sensor_readings = [\"N\",\"N\",\"H\",\"H\"]\n",
    "allowable_start_positions = [(0,0),(0,1),(0,2),\n",
    "                             (1,0),(1,1),(1,2),\n",
    "                             (2,0),(2,2)]\n",
    "our_world = [[\"H\", \"H\", \"T\"],\n",
    "             [\"N\", \"N\", \"N\"],\n",
    "             [\"N\", \"B\", \"H\"]]"
   ]
  },
  {
   "cell_type": "code",
   "execution_count": null,
   "id": "a7afad68",
   "metadata": {},
   "outputs": [],
   "source": [
    "# will hold our probabilities for certain positions (4 graphs)\n",
    "probabilities = {\"Graph 1\": {(0,0): 0, (0,1): 0,(0,2): 0,\n",
    "                             (1,0): 0,(1,1): 0,(1,2): 0,\n",
    "                             (2,0): 0,(2,2): 0},\n",
    "                 \"Graph 2\": {(0,0): 0, (0,1): 0,(0,2): 0,\n",
    "                             (1,0): 0,(1,1): 0,(1,2): 0,\n",
    "                             (2,0): 0,(2,2): 0},\n",
    "                 \"Graph 3\": {(0,0): 0, (0,1): 0,(0,2): 0,\n",
    "                             (1,0): 0,(1,1): 0,(1,2): 0,\n",
    "                             (2,0): 0,(2,2): 0},\n",
    "                 \"Graph 4\": {(0,0): 0, (0,1): 0,(0,2): 0,\n",
    "                             (1,0): 0,(1,1): 0,(1,2): 0,\n",
    "                             (2,0): 0,(2,2): 0}}\n",
    "\n",
    "trials = {\"Graph 1\": 0,\"Graph 2\": 0,\"Graph 3\": 0,\"Graph 4\": 0,}\n",
    "\n",
    "# how many times are we running the above actions?\n",
    "for _ in range(0,10_000_000):\n",
    "\n",
    "    # picking a random point that is not a blocked cell\n",
    "    pos_y, pos_x  = random.choice(allowable_start_positions)\n",
    "    sensor_readings = []\n",
    "\n",
    "    graph_number = 0\n",
    "    # going through actions\n",
    "    for action in actions:\n",
    "\n",
    "        # for our 4 different graphs\n",
    "        graph_number += 1\n",
    "\n",
    "        # we make the correct action 90% of the time\n",
    "        if np.random.choice([True,False], p = [0.90,0.10]):\n",
    "\n",
    "            if action == \"Right\":\n",
    "\n",
    "                if pos_x < 2 and our_world[pos_y][pos_x + 1] != \"B\":\n",
    "                    pos_x += 1\n",
    "\n",
    "            elif action == \"Down\":\n",
    "\n",
    "                if pos_y < 2 and our_world[pos_y + 1][pos_x] != \"B\":\n",
    "                    pos_y += 1\n",
    "\n",
    "        # getting sensor readings\n",
    "        current_terrain = our_world[pos_y][pos_x]\n",
    "        all_terrain_types = [\"N\",\"T\",\"H\"]\n",
    "        del all_terrain_types[all_terrain_types.index(current_terrain)]\n",
    "\n",
    "        # now let's use the broken sensor...\n",
    "        sensor_reading = np.random.choice([current_terrain,all_terrain_types[0],all_terrain_types[1]], p = [0.90,0.05,0.05])\n",
    "        sensor_readings.append(sensor_reading)\n",
    "\n",
    "        # we have to keep track of the probabilites\n",
    "        if graph_number == 1 and sensor_readings == [\"N\"]:\n",
    "\n",
    "            # incrememnting trials and position place\n",
    "            trials[\"Graph 1\"] += 1\n",
    "            probabilities[\"Graph 1\"][(pos_y,pos_x)] += 1\n",
    "\n",
    "        elif graph_number == 2 and sensor_readings == [\"N\",\"N\"]:\n",
    "\n",
    "            # incrememnting trials and position place\n",
    "            trials[\"Graph 2\"] += 1\n",
    "            probabilities[\"Graph 2\"][(pos_y,pos_x)] += 1\n",
    "\n",
    "        elif graph_number == 3 and sensor_readings == [\"N\",\"N\",\"H\"]:\n",
    "\n",
    "            # incrememnting trials and position place\n",
    "            trials[\"Graph 3\"] += 1\n",
    "            probabilities[\"Graph 3\"][(pos_y,pos_x)] += 1\n",
    "\n",
    "        elif graph_number == 4 and sensor_readings == [\"N\",\"N\",\"H\",\"H\"]:\n",
    "\n",
    "            # incrememnting trials and position place\n",
    "            trials[\"Graph 4\"] += 1\n",
    "            probabilities[\"Graph 4\"][(pos_y,pos_x)] += 1   \n",
    "\n",
    "# calculating probabilites \n",
    "for key in probabilities:\n",
    "    for coords in probabilities[key]:\n",
    "        # dividing outcomes and trials to get a probability\n",
    "        if trials[key] != 0:\n",
    "            probabilities[key][coords] = probabilities[key][coords] / trials[key]\n",
    "        else:\n",
    "             probabilities[key][coords] = 0"
   ]
  },
  {
   "cell_type": "code",
   "execution_count": null,
   "id": "6a4c8424",
   "metadata": {
    "scrolled": true
   },
   "outputs": [],
   "source": [
    "# confirming that all probabilities sum to 1 in each graph\n",
    "for g in [\"Graph 1\",\"Graph 2\",\"Graph 3\",\"Graph 4\"]:\n",
    "    ii = 0\n",
    "    for i in probabilities[g]:\n",
    "        ii += probabilities[g][i]\n",
    "    print(ii, g)"
   ]
  },
  {
   "cell_type": "code",
   "execution_count": null,
   "id": "18b02612",
   "metadata": {},
   "outputs": [],
   "source": [
    "probabilities[\"Graph 1\"]"
   ]
  },
  {
   "cell_type": "code",
   "execution_count": null,
   "id": "8974aaec",
   "metadata": {},
   "outputs": [],
   "source": [
    "probabilities[\"Graph 2\"]"
   ]
  },
  {
   "cell_type": "code",
   "execution_count": null,
   "id": "b5ce0fbe",
   "metadata": {},
   "outputs": [],
   "source": [
    "probabilities[\"Graph 3\"]"
   ]
  },
  {
   "cell_type": "code",
   "execution_count": null,
   "id": "44168a10",
   "metadata": {},
   "outputs": [],
   "source": [
    "probabilities[\"Graph 4\"]"
   ]
  }
 ],
 "metadata": {
  "kernelspec": {
   "display_name": "Python 3",
   "language": "python",
   "name": "python3"
  },
  "language_info": {
   "codemirror_mode": {
    "name": "ipython",
    "version": 3
   },
   "file_extension": ".py",
   "mimetype": "text/x-python",
   "name": "python",
   "nbconvert_exporter": "python",
   "pygments_lexer": "ipython3",
   "version": "3.8.5"
  }
 },
 "nbformat": 4,
 "nbformat_minor": 5
}
