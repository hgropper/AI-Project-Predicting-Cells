{
 "cells": [
  {
   "cell_type": "code",
   "execution_count": 82,
   "id": "08df1b7e",
   "metadata": {},
   "outputs": [],
   "source": [
    "import random\n",
    "import math\n",
    "import numpy as np\n",
    "import matplotlib.pyplot as plt"
   ]
  },
  {
   "cell_type": "code",
   "execution_count": 2,
   "id": "d976f6f6",
   "metadata": {
    "scrolled": true
   },
   "outputs": [
    {
     "data": {
      "text/plain": [
       "0.10240000000000003"
      ]
     },
     "execution_count": 2,
     "metadata": {},
     "output_type": "execute_result"
    }
   ],
   "source": [
    "0.80*0.80*0.2*0.8"
   ]
  },
  {
   "cell_type": "markdown",
   "id": "52492931",
   "metadata": {},
   "source": [
    "### Problem 1"
   ]
  },
  {
   "cell_type": "code",
   "execution_count": 47,
   "id": "4bcc4dad",
   "metadata": {},
   "outputs": [],
   "source": [
    "def run_trial_problem_1():\n",
    "    A = np.random.choice([True,False], p = [0.20,0.80])\n",
    "    B = np.random.choice([True,False], p = [0.50,0.50])\n",
    "    C = np.random.choice([True,False], p = [0.80,0.20])\n",
    "\n",
    "    if A == False and B == False:\n",
    "        D = np.random.choice([True,False], p = [0.90,0.10])\n",
    "    elif A == False and B == True:\n",
    "        D = np.random.choice([True,False], p = [0.60,0.40])\n",
    "    elif A == True and B == False:\n",
    "        D = np.random.choice([True,False], p = [0.50,0.50])\n",
    "    elif A == True and B == True:\n",
    "        D = np.random.choice([True,False], p = [0.10,0.90])\n",
    "\n",
    "    if B == False and C == False:\n",
    "        E = np.random.choice([True,False], p = [0.20,0.80])\n",
    "    elif B == False and C == True:\n",
    "        E = np.random.choice([True,False], p = [0.40,0.60])\n",
    "    elif B == True and C == False:\n",
    "        E = np.random.choice([True,False], p = [0.80,0.20])\n",
    "    elif B == True and C == True:\n",
    "        E = np.random.choice([True,False], p = [0.30,0.70])\n",
    "        \n",
    "    return A, B, C, D, E"
   ]
  },
  {
   "cell_type": "code",
   "execution_count": 48,
   "id": "0a206fbf",
   "metadata": {},
   "outputs": [],
   "source": [
    "probs = {\"A\":[],\"B\":[],\"C\":[],\"D\":[],\"E\":[]}\n",
    "numerator = 0\n",
    "denominator = 0"
   ]
  },
  {
   "cell_type": "code",
   "execution_count": 49,
   "id": "6c898a57",
   "metadata": {},
   "outputs": [],
   "source": [
    "for _ in range(0,200_000):\n",
    "    A, B, C, D, E = run_trial_problem_1()\n",
    "    probs[\"A\"].append(A)\n",
    "    probs[\"B\"].append(B)    \n",
    "    probs[\"C\"].append(C)    \n",
    "    probs[\"D\"].append(D)\n",
    "    probs[\"E\"].append(E)   "
   ]
  },
  {
   "cell_type": "code",
   "execution_count": 50,
   "id": "b65c33fd",
   "metadata": {},
   "outputs": [
    {
     "data": {
      "text/plain": [
       "0.00637"
      ]
     },
     "execution_count": 50,
     "metadata": {},
     "output_type": "execute_result"
    }
   ],
   "source": [
    "for a,b,c,d,e in zip(probs[\"A\"],probs[\"B\"],probs[\"C\"],probs[\"D\"],probs[\"E\"]):\n",
    "    if a == False and a == b and a == c and a == d and a == e:\n",
    "        numerator += 1\n",
    "    denominator += 1\n",
    "numerator / denominator"
   ]
  },
  {
   "cell_type": "code",
   "execution_count": null,
   "id": "6d4fe58f",
   "metadata": {
    "scrolled": true
   },
   "outputs": [],
   "source": [
    "path = [\"hot\",\"cold\",\"cold\",\"hot\",\"cold\",\"cold\"]\n",
    "trials = 0\n",
    "outcomes = 0\n",
    "\n",
    "while True:\n",
    "    position = 0\n",
    "    route = [\"hot\"]\n",
    "\n",
    "    while len(route) < 6:\n",
    "        position += np.random.choice([1,0], p = [0.80,0.20])\n",
    "        route.append(path[position])\n",
    "\n",
    "    if route[0] == 'hot' and route[1] == 'cold' and route[2] == 'cold':\n",
    "        trials += 1\n",
    "        if route[3] == 'hot' and route[4] == 'hot' and route[5] == 'cold':\n",
    "            outcomes += 1"
   ]
  },
  {
   "cell_type": "markdown",
   "id": "5dab84fa",
   "metadata": {},
   "source": [
    "### Problem 2"
   ]
  },
  {
   "cell_type": "code",
   "execution_count": null,
   "id": "495083a4",
   "metadata": {},
   "outputs": [],
   "source": [
    "def run_trial_problem_2():\n",
    "    B = np.random.choice([True,False], p = [0.001,0.999])\n",
    "    E = np.random.choice([True,False], p = [0.002,0.998])\n",
    "\n",
    "    if B == True and E == True:\n",
    "        A = np.random.choice([True,False], p = [0.95,0.05])\n",
    "    elif B == True and E == False:\n",
    "        A = np.random.choice([True,False], p = [0.94,0.06])\n",
    "    elif B == False and E == True:\n",
    "        A = np.random.choice([True,False], p = [0.29,0.71])  \n",
    "    elif B == False and E == False:\n",
    "        A = np.random.choice([True,False], p = [0.001,0.999])\n",
    "\n",
    "    if A == True:\n",
    "        J = np.random.choice([True,False], p = [0.90,0.10])\n",
    "        M = np.random.choice([True,False], p = [0.70,0.30])\n",
    "    elif A == False:\n",
    "        J = np.random.choice([True,False], p = [0.05,0.95])\n",
    "        M = np.random.choice([True,False], p = [0.01,0.99])\n",
    "        \n",
    "    return A, B, E, J, M"
   ]
  },
  {
   "cell_type": "code",
   "execution_count": null,
   "id": "3c945a1b",
   "metadata": {},
   "outputs": [],
   "source": [
    "for _ in range(0,10000):\n",
    "    probs = {\"A\":[],\"B\":[],\"E\":[],\"J\":[],\"M\":[]}\n",
    "    for _ in range(0,10000):\n",
    "        A, B, E, J, M = run_trial_problem_2()\n",
    "        probs[\"A\"].append(A)\n",
    "        probs[\"B\"].append(B)    \n",
    "        probs[\"E\"].append(E)    \n",
    "        probs[\"J\"].append(J)\n",
    "        probs[\"M\"].append(M)        \n",
    "\n",
    "    numerator = 0\n",
    "    denominator = 0\n",
    "    for b, j, m in zip(probs[\"B\"],probs[\"J\"],probs[\"M\"]):\n",
    "        if b and j and m:\n",
    "            numerator += 1\n",
    "        if m and j:\n",
    "            denominator += 1\n",
    "\n",
    "    ave.append(numerator/denominator)\n",
    "    print(np.mean(ave))"
   ]
  },
  {
   "cell_type": "markdown",
   "id": "7a370237",
   "metadata": {},
   "source": [
    "### Problem 3"
   ]
  },
  {
   "cell_type": "code",
   "execution_count": 84,
   "id": "964e011c",
   "metadata": {},
   "outputs": [],
   "source": [
    "def run_trial():\n",
    "    \"\"\"\n",
    "    Determines the probability of \n",
    "    A, B, C, D given the bayesian network\n",
    "    \"\"\"\n",
    "    \n",
    "    # probability of A = 0\n",
    "    A = False\n",
    "\n",
    "    # probability of B is 0.90\n",
    "    B = np.random.choice([True,False], p = [0.90,0.10])\n",
    "\n",
    "    # what is C going to be based off A and B?\n",
    "    if A == False and B == True:\n",
    "        C = np.random.choice([True,False], p = [0.50,0.50])\n",
    "    else:\n",
    "        C = False\n",
    "\n",
    "    # deciding the value for D\n",
    "    if B == True and C == True:\n",
    "        D = np.random.choice([True,False], p = [0.75,0.25])\n",
    "    elif B == True and C == False:\n",
    "        D = np.random.choice([True,False], p = [0.10,0.90])\n",
    "    elif B == False and C == True:\n",
    "        D = np.random.choice([True,False], p = [0.50,0.50])\n",
    "    elif B == False and C == False:\n",
    "        D = np.random.choice([True,False], p = [0.20,0.80])\n",
    "            \n",
    "    # returning al the values\n",
    "    return (A, B, C, D)"
   ]
  },
  {
   "cell_type": "code",
   "execution_count": 88,
   "id": "2667c199",
   "metadata": {},
   "outputs": [],
   "source": [
    "probs = {\"A\":[],\"B\":[],\"C\":[],\"D\":[]}\n",
    "for _ in range(0,10_000):\n",
    "    A, B, C, D = run_trial()\n",
    "    probs[\"A\"].append(A)\n",
    "    probs[\"B\"].append(B)    \n",
    "    probs[\"C\"].append(C)    \n",
    "    probs[\"D\"].append(D)    "
   ]
  },
  {
   "cell_type": "code",
   "execution_count": 89,
   "id": "ae88a293",
   "metadata": {},
   "outputs": [
    {
     "name": "stdout",
     "output_type": "stream",
     "text": [
      "P(B|C) = 1.0\n",
      "P(D|C) = 0.7551339285714286\n",
      "P(D|¬A,B) = 0.42509135200974424\n"
     ]
    }
   ],
   "source": [
    "# Finding P(B|C)\n",
    "numerator = 0\n",
    "denominator = 0\n",
    "for b,c in zip(probs[\"B\"],probs[\"C\"]):\n",
    "    \n",
    "    if b == c and c == True:\n",
    "        numerator += 1\n",
    "    if c == True:\n",
    "        denominator += 1\n",
    "print(\"P(B|C) = \" + str(numerator/denominator))\n",
    "\n",
    "# Finding P(D|C)\n",
    "numerator = 0\n",
    "denominator = 0\n",
    "to_graph = []\n",
    "for d,c in zip(probs[\"D\"],probs[\"C\"]):\n",
    "    \n",
    "    if d == c and c == True:\n",
    "        numerator += 1\n",
    "    if c == True:\n",
    "        denominator += 1\n",
    "\n",
    "    if denominator > 0:\n",
    "        to_graph.append(numerator/denominator)\n",
    "    \n",
    "print(\"P(D|C) = \" + str(numerator/denominator))\n",
    "\n",
    "# Finding P(D|¬A,B)\n",
    "numerator = 0\n",
    "denominator = 0\n",
    "for d,a,b in zip(probs[\"D\"],probs[\"A\"],probs[\"B\"]):\n",
    "    \n",
    "    if d == True and a == False and b == True:\n",
    "        numerator += 1\n",
    "    if a == False and b == True:\n",
    "        denominator += 1\n",
    "print(\"P(D|¬A,B) = \" + str(numerator/denominator))"
   ]
  },
  {
   "cell_type": "code",
   "execution_count": 92,
   "id": "6f5477be",
   "metadata": {},
   "outputs": [
    {
     "data": {
      "image/png": "[encoded data removed]",
      "text/plain": [
       "<Figure size 432x288 with 1 Axes>"
      ]
     },
     "metadata": {
      "needs_background": "light"
     },
     "output_type": "display_data"
    }
   ],
   "source": [
    "plt.plot(to_graph)\n",
    "plt.title(\"Approximated Value for P(D|C)\")\n",
    "plt.xlabel(\"Trials\")\n",
    "plt.ylabel(\"Probability\")\n",
    "plt.show()"
   ]
  },
  {
   "cell_type": "markdown",
   "id": "1c28c0c2",
   "metadata": {},
   "source": [
    "### Problem 4"
   ]
  },
  {
   "cell_type": "code",
   "execution_count": null,
   "id": "824d26ef",
   "metadata": {},
   "outputs": [],
   "source": [
    "path = {\"A\":\"hot\",\"B\":\"cold\",\"C\":\"cold\",\"D\":\"hot\",\"E\":\"cold\",\"F\":\"cold\"}\n",
    "keys = list(path.keys())\n",
    "X = []\n",
    "\n",
    "for _ in range(0,10000):\n",
    "    \n",
    "    total_path = [\"A\"]\n",
    "    index = 0\n",
    "    \n",
    "    while len(total_path) < 5:\n",
    "        \n",
    "        index += np.random.choice([1,0], p = [0.80,0.20])\n",
    "        total_path.append(keys[index])\n",
    "\n",
    "    if (path[total_path[0]] == \"hot\" and path[total_path[1]] == \"cold\" and \n",
    "    path[total_path[2]] == \"cold\"):\n",
    "        X.append(total_path[-1])\n",
    "        \n",
    "for letter in keys:\n",
    "    print(f\"{letter}: {X.count(letter) / len(X)}\")"
   ]
  }
 ],
 "metadata": {
  "kernelspec": {
   "display_name": "Python 3",
   "language": "python",
   "name": "python3"
  },
  "language_info": {
   "codemirror_mode": {
    "name": "ipython",
    "version": 3
   },
   "file_extension": ".py",
   "mimetype": "text/x-python",
   "name": "python",
   "nbconvert_exporter": "python",
   "pygments_lexer": "ipython3",
   "version": "3.8.5"
  }
 },
 "nbformat": 4,
 "nbformat_minor": 5
}
